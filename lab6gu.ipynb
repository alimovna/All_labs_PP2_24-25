{
 "cells": [
  {
   "cell_type": "markdown",
   "id": "a80c8a23-abc2-4b49-8800-5fe9c3f584ec",
   "metadata": {},
   "source": [
    "buitin_functions"
   ]
  },
  {
   "cell_type": "markdown",
   "id": "5667008a-e5de-43f7-9bd1-b0a5ad019e0f",
   "metadata": {},
   "source": [
    "task1"
   ]
  },
  {
   "cell_type": "code",
   "execution_count": 16,
   "id": "d5df9ce7-9306-424e-8249-26db13094b8c",
   "metadata": {},
   "outputs": [
    {
     "name": "stdout",
     "output_type": "stream",
     "text": [
      "120\n"
     ]
    }
   ],
   "source": [
    "import math\n",
    "\n",
    "numbers = [2, 3, 4, 5]  \n",
    "result = math.prod(numbers)  \n",
    "print(result) "
   ]
  },
  {
   "cell_type": "markdown",
   "id": "c56b5db8-5d01-4428-8432-2d6b4fa28369",
   "metadata": {},
   "source": [
    "task2"
   ]
  },
  {
   "cell_type": "code",
   "execution_count": 19,
   "id": "7190d8c5-b368-40ff-be9b-632d53fbdc18",
   "metadata": {},
   "outputs": [
    {
     "name": "stdin",
     "output_type": "stream",
     "text": [
      " Gukash krasotka\n"
     ]
    },
    {
     "name": "stdout",
     "output_type": "stream",
     "text": [
      "Big letters 1 Small letters 14\n"
     ]
    }
   ],
   "source": [
    "a=input()\n",
    "big=0\n",
    "small=0\n",
    "for i in range(len(a)):\n",
    "    if (a[i].isupper()):\n",
    "        big+=1\n",
    "    else:\n",
    "        small+=1\n",
    "print(\"Big letters\",big,\"Small letters\",small)"
   ]
  },
  {
   "cell_type": "code",
   "execution_count": 21,
   "id": "793ed463-9a77-4fe4-a1eb-c053b47c8bf1",
   "metadata": {},
   "outputs": [
    {
     "name": "stdin",
     "output_type": "stream",
     "text": [
      " gukash\n"
     ]
    },
    {
     "name": "stdout",
     "output_type": "stream",
     "text": [
      "False\n"
     ]
    }
   ],
   "source": [
    "a=input()\n",
    "if (a==a[::-1]):\n",
    "    print(\"True\")\n",
    "else:\n",
    "    print(\"False\")"
   ]
  },
  {
   "cell_type": "code",
   "execution_count": 23,
   "id": "3d9a814c-b8b5-4880-959d-22f9af27722d",
   "metadata": {},
   "outputs": [
    {
     "name": "stdin",
     "output_type": "stream",
     "text": [
      " 25100\n",
      " 2523\n"
     ]
    },
    {
     "name": "stdout",
     "output_type": "stream",
     "text": [
      "Square root of 25100 after 2523 milliseconds is 158.42979517754858\n"
     ]
    }
   ],
   "source": [
    "import time\n",
    "import math\n",
    "num = int(input()) \n",
    "delay = int(input()) \n",
    "time.sleep(delay / 1000)\n",
    "result = math.sqrt(num)\n",
    "print(f\"Square root of {num} after {delay} milliseconds is {result}\")"
   ]
  },
  {
   "cell_type": "code",
   "execution_count": 25,
   "id": "02d58ee3-fb85-4652-924a-49eb91579efc",
   "metadata": {},
   "outputs": [
    {
     "name": "stdout",
     "output_type": "stream",
     "text": [
      "True\n"
     ]
    }
   ],
   "source": [
    "t = (1, True, \"Hello\") \n",
    "\n",
    "result = all(t)\n",
    "\n",
    "print(result) "
   ]
  },
  {
   "cell_type": "markdown",
   "id": "b13e302c-c7d3-4516-a1a2-78f18874d216",
   "metadata": {},
   "source": [
    "dir and files"
   ]
  },
  {
   "cell_type": "code",
   "execution_count": 28,
   "id": "04642707-5f43-4d72-8036-07a78c200af6",
   "metadata": {},
   "outputs": [
    {
     "name": "stdout",
     "output_type": "stream",
     "text": [
      "['.ipynb_checkpoints', 'lab1guka.ipynb', 'lab2guka.ipynb', 'lab3gu.ipynb', 'lab4gu.ipynb', 'lab5gu.ipynb', 'lab6gu.ipynb']\n"
     ]
    }
   ],
   "source": [
    "import os\n",
    "path=\".\"\n",
    "all_items = os.listdir(path)\n",
    "print(all_items)"
   ]
  },
  {
   "cell_type": "code",
   "execution_count": 30,
   "id": "570681f0-c58e-4aa9-8064-948395fb02f3",
   "metadata": {},
   "outputs": [
    {
     "name": "stdout",
     "output_type": "stream",
     "text": [
      "only dir= .ipynb_checkpoints\n"
     ]
    }
   ],
   "source": [
    "import os\n",
    "path=\".\"\n",
    "allDirs = os.listdir(path)\n",
    "for item in allDirs:\n",
    "    if os.path.isdir(os.path.join(path,item)):\n",
    "        print(f\"only dir= {item}\")"
   ]
  },
  {
   "cell_type": "code",
   "execution_count": 32,
   "id": "902ff00d-93b0-4eed-b4b4-e3f76b614925",
   "metadata": {},
   "outputs": [
    {
     "name": "stdout",
     "output_type": "stream",
     "text": [
      "only file= lab1guka.ipynb\n",
      "only file= lab2guka.ipynb\n",
      "only file= lab3gu.ipynb\n",
      "only file= lab4gu.ipynb\n",
      "only file= lab5gu.ipynb\n",
      "only file= lab6gu.ipynb\n"
     ]
    }
   ],
   "source": [
    "import os\n",
    "path=\".\"\n",
    "allDirs = os.listdir(path)\n",
    "for item in allDirs:\n",
    "    if  os.path.isfile(os.path.join(path,item)):\n",
    "        print(f\"only file= {item}\")"
   ]
  },
  {
   "cell_type": "code",
   "execution_count": 34,
   "id": "b51d730c-c8bd-491d-8677-ba708537cfef",
   "metadata": {},
   "outputs": [
    {
     "name": "stdout",
     "output_type": "stream",
     "text": [
      "Путь существует: .\n",
      "Читаемый: Да\n",
      "Записываемый: Да\n",
      "Исполняемый: Да\n"
     ]
    }
   ],
   "source": [
    "import os\n",
    "\n",
    "path = \".\"\n",
    "\n",
    "\n",
    "if os.path.exists(path):\n",
    "    print(f\"Путь существует: {path}\")\n",
    "\n",
    "    print(f\"Читаемый: {'Да' if os.access(path, os.R_OK) else 'Нет'}\")\n",
    "    print(f\"Записываемый: {'Да' if os.access(path, os.W_OK) else 'Нет'}\")\n",
    "    print(f\"Исполняемый: {'Да' if os.access(path, os.X_OK) else 'Нет'}\")\n",
    "else:\n",
    "    print(f\"Путь не существует: {path}\")"
   ]
  },
  {
   "cell_type": "code",
   "execution_count": 36,
   "id": "8ea6458f-2901-4a2f-a088-cc23e4e58aa1",
   "metadata": {},
   "outputs": [
    {
     "name": "stdout",
     "output_type": "stream",
     "text": [
      "Путь существует: .\n",
      "Имя файла: .\n",
      "Папка: \n"
     ]
    }
   ],
   "source": [
    "import os\n",
    "\n",
    "path = \".\"  \n",
    "\n",
    "if os.path.exists(path):\n",
    "    print(f\"Путь существует: {path}\")\n",
    "\n",
    "   \n",
    "    filename = os.path.basename(path)\n",
    "    print(f\"Имя файла: {filename}\")\n",
    "\n",
    "   \n",
    "    directory = os.path.dirname(path)\n",
    "    print(f\"Папка: {directory}\")\n",
    "else:\n",
    "    print(\"Путь не существует.\")"
   ]
  },
  {
   "cell_type": "code",
   "execution_count": 42,
   "id": "aaaa5da6-4ddc-4c9b-9e31-ea2056ee2e9f",
   "metadata": {},
   "outputs": [
    {
     "name": "stdout",
     "output_type": "stream",
     "text": [
      "Hello\n"
     ]
    }
   ],
   "source": [
    "\"\"\"file_names = [\"A.txt\", \"B.txt\", \"C.txt\", \"D.txt\", \"E.txt\", \"F.txt\", \"G.txt\", \n",
    "              \"H.txt\", \"I.txt\", \"J.txt\", \"K.txt\", \"L.txt\", \"M.txt\", \"N.txt\", \n",
    "              \"O.txt\", \"P.txt\", \"Q.txt\", \"R.txt\", \"S.txt\", \"T.txt\", \"U.txt\", \n",
    "              \"V.txt\", \"W.txt\", \"X.txt\", \"Y.txt\", \"Z.txt\"]\n",
    "\n",
    "for file_name in file_names:\n",
    "    with open(file_name, \"w\") as file:\n",
    "        file.write(f\"This is file {file_name}\\n\")\"\"\"\n",
    "print(\"Hello\")"
   ]
  },
  {
   "cell_type": "code",
   "execution_count": null,
   "id": "7d80f4bd-fb9d-497d-89dd-5ccc652c33e5",
   "metadata": {},
   "outputs": [],
   "source": [
    "import os\n",
    "\n",
    "file_path = input(\"Введите путь к файлу: \")\n",
    "\n",
    "if not os.path.exists(file_path):\n",
    "    print(f\"Файл '{file_path}' не существует.\")\n",
    "elif not os.access(file_path, os.W_OK):\n",
    "    print(f\"Нет доступа для удаления файла '{file_path}'.\")\n",
    "else:\n",
    "    os.remove(file_path)\n",
    "    print(f\"Файл '{file_path}' успешно удалён.\")"
   ]
  }
 ],
 "metadata": {
  "kernelspec": {
   "display_name": "Python [conda env:base] *",
   "language": "python",
   "name": "conda-base-py"
  },
  "language_info": {
   "codemirror_mode": {
    "name": "ipython",
    "version": 3
   },
   "file_extension": ".py",
   "mimetype": "text/x-python",
   "name": "python",
   "nbconvert_exporter": "python",
   "pygments_lexer": "ipython3",
   "version": "3.12.7"
  }
 },
 "nbformat": 4,
 "nbformat_minor": 5
}
