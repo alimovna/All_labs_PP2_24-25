{
 "cells": [
  {
   "cell_type": "markdown",
   "id": "c3fafdab-e7c8-44bc-8421-a3950474c3b0",
   "metadata": {},
   "source": [
    "Python HOME"
   ]
  },
  {
   "cell_type": "markdown",
   "id": "a9d1eb32-fa14-46bb-815f-a0e7a747d994",
   "metadata": {},
   "source": [
    "Example1"
   ]
  },
  {
   "cell_type": "code",
   "execution_count": 5,
   "id": "49e0fb73-2f2d-413f-9bbf-b250cb674a7f",
   "metadata": {},
   "outputs": [
    {
     "name": "stdout",
     "output_type": "stream",
     "text": [
      "Hello,World\n"
     ]
    }
   ],
   "source": [
    "print(\"Hello,World\")"
   ]
  },
  {
   "cell_type": "markdown",
   "id": "307176b3-e7ea-466b-bab5-2b97097adeb5",
   "metadata": {},
   "source": [
    "Python Intro"
   ]
  },
  {
   "cell_type": "markdown",
   "id": "28fc0366-edf5-4663-8b16-bb93574170a1",
   "metadata": {},
   "source": [
    "Example1"
   ]
  },
  {
   "cell_type": "code",
   "execution_count": 9,
   "id": "9e0cd9a5-e75b-4d04-b8a5-3a2cfc0d67b3",
   "metadata": {},
   "outputs": [
    {
     "name": "stdout",
     "output_type": "stream",
     "text": [
      "Hello,World!\n"
     ]
    }
   ],
   "source": [
    "print(\"Hello,World!\")"
   ]
  },
  {
   "cell_type": "markdown",
   "id": "9bd02c6c-c63d-4bce-9346-02cddaef03e0",
   "metadata": {},
   "source": [
    "Python Get Started"
   ]
  },
  {
   "cell_type": "markdown",
   "id": "9a0428c1-4598-4f42-ac77-a334fe249755",
   "metadata": {},
   "source": [
    "Example1"
   ]
  },
  {
   "cell_type": "code",
   "execution_count": 13,
   "id": "2955a6aa-450f-4b4f-b5d7-69e56d877152",
   "metadata": {},
   "outputs": [
    {
     "name": "stdout",
     "output_type": "stream",
     "text": [
      "Hello,World!\n"
     ]
    }
   ],
   "source": [
    "print(\"Hello,World!\")"
   ]
  },
  {
   "cell_type": "code",
   "execution_count": 15,
   "id": "3038de38-b5c9-4e95-8bc2-2a1a285bab84",
   "metadata": {},
   "outputs": [
    {
     "name": "stdout",
     "output_type": "stream",
     "text": [
      "3.12.7 | packaged by Anaconda, Inc. | (main, Oct  4 2024, 13:17:27) [MSC v.1929 64 bit (AMD64)]\n"
     ]
    }
   ],
   "source": [
    "import sys\n",
    "print(sys.version)"
   ]
  },
  {
   "cell_type": "markdown",
   "id": "df166204-b1ba-49ce-8c21-2372571fb03f",
   "metadata": {},
   "source": [
    "Python Syntax"
   ]
  },
  {
   "cell_type": "markdown",
   "id": "56864162-e4e6-429f-a210-02a5e78d13da",
   "metadata": {},
   "source": [
    "Example1"
   ]
  },
  {
   "cell_type": "code",
   "execution_count": 19,
   "id": "5460f54c-8a07-42e9-8f13-3d8789869688",
   "metadata": {},
   "outputs": [
    {
     "name": "stdout",
     "output_type": "stream",
     "text": [
      "Five is greater than two!\n"
     ]
    }
   ],
   "source": [
    "if 5>2:\n",
    "    print(\"Five is greater than two!\")"
   ]
  },
  {
   "cell_type": "markdown",
   "id": "6992560e-97cc-4e20-9f05-d7b1498a40f0",
   "metadata": {},
   "source": [
    "Exapmle2"
   ]
  },
  {
   "cell_type": "code",
   "execution_count": 24,
   "id": "cd81500c-43a6-4281-a397-6d529dab1f61",
   "metadata": {},
   "outputs": [
    {
     "ename": "IndentationError",
     "evalue": "expected an indented block after 'if' statement on line 1 (760999835.py, line 2)",
     "output_type": "error",
     "traceback": [
      "\u001b[1;36m  Cell \u001b[1;32mIn[24], line 2\u001b[1;36m\u001b[0m\n\u001b[1;33m    print(\"Five is greater than two!\")\u001b[0m\n\u001b[1;37m    ^\u001b[0m\n\u001b[1;31mIndentationError\u001b[0m\u001b[1;31m:\u001b[0m expected an indented block after 'if' statement on line 1\n"
     ]
    }
   ],
   "source": [
    "if 5>2:\n",
    "print(\"Five is greater than two!\")"
   ]
  },
  {
   "cell_type": "markdown",
   "id": "adaf9745-3f67-4592-b446-3ca60226bde1",
   "metadata": {},
   "source": [
    "Example3"
   ]
  },
  {
   "cell_type": "code",
   "execution_count": 27,
   "id": "f5c3b152-f440-40c6-b3dc-a7f419671bc0",
   "metadata": {},
   "outputs": [
    {
     "name": "stdout",
     "output_type": "stream",
     "text": [
      "Five is greater than two!\n",
      "Five is greater than two!\n"
     ]
    }
   ],
   "source": [
    "if 5>2:\n",
    "    print(\"Five is greater than two!\")\n",
    "if 5>2:\n",
    "       print( \"Five is greater than two!\")"
   ]
  },
  {
   "cell_type": "markdown",
   "id": "4b7b4bb6-811b-45df-92fe-55afe2b66300",
   "metadata": {},
   "source": [
    "Example4"
   ]
  },
  {
   "cell_type": "code",
   "execution_count": 30,
   "id": "f3b0bdcc-be8f-489d-85e5-1042478a5de4",
   "metadata": {},
   "outputs": [
    {
     "ename": "IndentationError",
     "evalue": "unexpected indent (2427528971.py, line 3)",
     "output_type": "error",
     "traceback": [
      "\u001b[1;36m  Cell \u001b[1;32mIn[30], line 3\u001b[1;36m\u001b[0m\n\u001b[1;33m    print(\"Five is greater than two!\")\u001b[0m\n\u001b[1;37m    ^\u001b[0m\n\u001b[1;31mIndentationError\u001b[0m\u001b[1;31m:\u001b[0m unexpected indent\n"
     ]
    }
   ],
   "source": [
    "if 5>2:\n",
    "    print(\"Five is greater than two!\")\n",
    "        print(\"Five is greater than two!\")"
   ]
  },
  {
   "cell_type": "markdown",
   "id": "0768247b-bcd1-404e-9d4c-b71a546b2261",
   "metadata": {},
   "source": [
    "Python Variables"
   ]
  },
  {
   "cell_type": "markdown",
   "id": "f39e959f-27d7-4475-a6a5-f5c270ba4f23",
   "metadata": {},
   "source": [
    "Example1"
   ]
  },
  {
   "cell_type": "code",
   "execution_count": 38,
   "id": "da2a7044-c560-4410-a089-d7ce4d003319",
   "metadata": {},
   "outputs": [],
   "source": [
    "x=5\n",
    "y=\"Hello,World\""
   ]
  },
  {
   "cell_type": "markdown",
   "id": "604fdfc5-224d-4392-83c1-24592ab8ee14",
   "metadata": {},
   "source": [
    "Example2"
   ]
  },
  {
   "cell_type": "code",
   "execution_count": 41,
   "id": "4186fb1b-86cd-4ac5-b2a9-50146d12b378",
   "metadata": {},
   "outputs": [
    {
     "name": "stdout",
     "output_type": "stream",
     "text": [
      "Hello,World\n"
     ]
    }
   ],
   "source": [
    "#this is a comment\n",
    "print(\"Hello,World\")"
   ]
  },
  {
   "cell_type": "markdown",
   "id": "3bb222b0-63d6-4ea9-bb25-ca030458e60e",
   "metadata": {},
   "source": [
    "Python Comments"
   ]
  },
  {
   "cell_type": "markdown",
   "id": "14f7fd9c-2cf0-4238-b275-13fda6c3e838",
   "metadata": {},
   "source": [
    "Example1"
   ]
  },
  {
   "cell_type": "code",
   "execution_count": 47,
   "id": "04ea6a34-85ff-41db-ad41-38104ac79e2c",
   "metadata": {},
   "outputs": [
    {
     "name": "stdout",
     "output_type": "stream",
     "text": [
      "Hello,World!\n"
     ]
    }
   ],
   "source": [
    "#this is comment\n",
    "print(\"Hello,World!\")"
   ]
  },
  {
   "cell_type": "markdown",
   "id": "e41ed151-9e1b-4939-bcb4-3acaf0313227",
   "metadata": {},
   "source": [
    "Example2"
   ]
  },
  {
   "cell_type": "code",
   "execution_count": 50,
   "id": "6a41da72-da63-4975-bdf2-4dfe1665ff4e",
   "metadata": {},
   "outputs": [
    {
     "name": "stdout",
     "output_type": "stream",
     "text": [
      "Hello,World\n"
     ]
    }
   ],
   "source": [
    "print(\"Hello,World\") #this is a comment"
   ]
  },
  {
   "cell_type": "markdown",
   "id": "272f0d1a-378a-429d-9e5b-0cc45bf5e9f4",
   "metadata": {},
   "source": [
    "Example3"
   ]
  },
  {
   "cell_type": "code",
   "execution_count": 53,
   "id": "13b670d2-516b-4da9-8721-1b12a20c965b",
   "metadata": {},
   "outputs": [
    {
     "name": "stdout",
     "output_type": "stream",
     "text": [
      "Cheers,Mate!\n"
     ]
    }
   ],
   "source": [
    "#print(\"Hello,World\")\n",
    "print(\"Cheers,Mate!\")"
   ]
  },
  {
   "cell_type": "markdown",
   "id": "aac887d4-70fa-475d-924f-96a01a2cc334",
   "metadata": {},
   "source": [
    "Example4"
   ]
  },
  {
   "cell_type": "code",
   "execution_count": 56,
   "id": "5f6e85ac-010a-48ab-b11d-98901e405aac",
   "metadata": {},
   "outputs": [
    {
     "name": "stdout",
     "output_type": "stream",
     "text": [
      "Hello,World!\n"
     ]
    }
   ],
   "source": [
    "#this is a comment\n",
    "#written in\n",
    "#more than just one line\n",
    "print(\"Hello,World!\")"
   ]
  },
  {
   "cell_type": "markdown",
   "id": "fa4275bb-2865-47ad-9ba9-81d90375150d",
   "metadata": {},
   "source": [
    "Example5"
   ]
  },
  {
   "cell_type": "code",
   "execution_count": 59,
   "id": "3455c167-c5db-4374-8be9-e01bd973bdd9",
   "metadata": {},
   "outputs": [
    {
     "name": "stdout",
     "output_type": "stream",
     "text": [
      "Hello,World!\n"
     ]
    }
   ],
   "source": [
    "'''\n",
    "this is a comment\n",
    "written in\n",
    "more than just one line\n",
    "'''\n",
    "print(\"Hello,World!\")"
   ]
  },
  {
   "cell_type": "markdown",
   "id": "1e72e6c7-51da-4020-9821-fc0ccb39984e",
   "metadata": {},
   "source": [
    "Python Variables"
   ]
  },
  {
   "cell_type": "markdown",
   "id": "55ecec76-7562-4a52-ab3d-dc5f947d2091",
   "metadata": {},
   "source": [
    "Example1"
   ]
  },
  {
   "cell_type": "code",
   "execution_count": 63,
   "id": "f21c0743-e4ad-4f09-b7d0-7c43dbec02eb",
   "metadata": {},
   "outputs": [
    {
     "name": "stdout",
     "output_type": "stream",
     "text": [
      "5\n",
      "John\n"
     ]
    }
   ],
   "source": [
    "x=5\n",
    "y=\"John\"\n",
    "print(x)\n",
    "print(y)"
   ]
  },
  {
   "cell_type": "markdown",
   "id": "e102610e-625c-4c3a-a9e3-449818469b22",
   "metadata": {},
   "source": [
    "Example2"
   ]
  },
  {
   "cell_type": "code",
   "execution_count": 66,
   "id": "08279d03-ae62-43dd-9a6b-bfb82bd1dc6e",
   "metadata": {},
   "outputs": [
    {
     "name": "stdout",
     "output_type": "stream",
     "text": [
      "Sally\n"
     ]
    }
   ],
   "source": [
    "x=4 #x is of type int\n",
    "x=\"Sally\" #x is now of type str\n",
    "print(x)\n"
   ]
  },
  {
   "cell_type": "markdown",
   "id": "297d0bd9-c9ba-40da-918d-d6c066ba282a",
   "metadata": {},
   "source": [
    "Example3"
   ]
  },
  {
   "cell_type": "code",
   "execution_count": 69,
   "id": "a5278faf-33a2-4b31-9134-c4de6f6a4e3e",
   "metadata": {},
   "outputs": [],
   "source": [
    "x=str(3) #x will be'3'\n",
    "y=int(3) #x will be 3\n",
    "z=float(3) #x will be 3.0"
   ]
  },
  {
   "cell_type": "markdown",
   "id": "8c47d078-c6c5-4a0d-8d68-52a88a169fdd",
   "metadata": {},
   "source": [
    "Example4"
   ]
  },
  {
   "cell_type": "code",
   "execution_count": 72,
   "id": "e44bae9a-34d0-4941-90bc-00214d8bd38f",
   "metadata": {},
   "outputs": [
    {
     "name": "stdout",
     "output_type": "stream",
     "text": [
      "<class 'int'>\n",
      "<class 'str'>\n"
     ]
    }
   ],
   "source": [
    "x=5\n",
    "y=\"John\"\n",
    "print(type(x))\n",
    "print(type(y))"
   ]
  },
  {
   "cell_type": "markdown",
   "id": "680625e5-6d4a-436e-b448-f6a6c27921b6",
   "metadata": {},
   "source": [
    "Example5"
   ]
  },
  {
   "cell_type": "code",
   "execution_count": 77,
   "id": "b52f9cf1-7931-4e36-87b7-31660f19ccd6",
   "metadata": {},
   "outputs": [],
   "source": [
    "x=\"John\"\n",
    "#is the same as\n",
    "x='John'"
   ]
  },
  {
   "cell_type": "markdown",
   "id": "a8e9bce0-36b5-495b-8a78-99ec74b80137",
   "metadata": {},
   "source": [
    "Example6"
   ]
  },
  {
   "cell_type": "code",
   "execution_count": 80,
   "id": "ac19f423-9ad8-4952-83d2-7aef04203319",
   "metadata": {},
   "outputs": [],
   "source": [
    "a=4\n",
    "A=\"Sally\"\n",
    "#A will not overwrite a"
   ]
  },
  {
   "cell_type": "markdown",
   "id": "8ba0f9d4-8657-4ebb-8393-feac50dcae9b",
   "metadata": {},
   "source": [
    "Python-Variable Names"
   ]
  },
  {
   "cell_type": "markdown",
   "id": "024fecf9-f472-4b3a-8808-1df7d0504c02",
   "metadata": {},
   "source": [
    "Example1"
   ]
  },
  {
   "cell_type": "code",
   "execution_count": 86,
   "id": "28ed6def-abe8-4349-b0d6-818cb2f30981",
   "metadata": {},
   "outputs": [],
   "source": [
    "myvar=\"John\"\n",
    "my_var=\"John\"\n",
    "_my_var=\"John\"\n",
    "myVar=\"John\"\n",
    "MYVAR=\"John\"\n",
    "myvar2=\"John\""
   ]
  },
  {
   "cell_type": "markdown",
   "id": "32f94604-7643-472c-93c6-70f2d748e2e4",
   "metadata": {},
   "source": [
    "Example2"
   ]
  },
  {
   "cell_type": "code",
   "execution_count": 89,
   "id": "a1e4c78c-e365-4914-9b8a-5b0fa256302e",
   "metadata": {},
   "outputs": [
    {
     "ename": "SyntaxError",
     "evalue": "invalid decimal literal (3311997590.py, line 1)",
     "output_type": "error",
     "traceback": [
      "\u001b[1;36m  Cell \u001b[1;32mIn[89], line 1\u001b[1;36m\u001b[0m\n\u001b[1;33m    2myvar=\"John\"\u001b[0m\n\u001b[1;37m    ^\u001b[0m\n\u001b[1;31mSyntaxError\u001b[0m\u001b[1;31m:\u001b[0m invalid decimal literal\n"
     ]
    }
   ],
   "source": [
    "2myvar=\"John\"\n",
    "my-var=\"John\"\n",
    "my var=\"John\""
   ]
  },
  {
   "cell_type": "markdown",
   "id": "bc2b1873-dcfd-418f-820d-af466c20a186",
   "metadata": {},
   "source": [
    "Python Variables-Assign Multiple Values"
   ]
  },
  {
   "cell_type": "markdown",
   "id": "20cc4123-d0f5-4a93-b477-d379dc5b1b0e",
   "metadata": {},
   "source": [
    "Example1"
   ]
  },
  {
   "cell_type": "code",
   "execution_count": 93,
   "id": "a7f45e04-ae71-4cd5-a16b-6447575a03db",
   "metadata": {},
   "outputs": [
    {
     "name": "stdout",
     "output_type": "stream",
     "text": [
      "Orange\n",
      "Banana\n",
      "Cherry\n"
     ]
    }
   ],
   "source": [
    "x,y,z=\"Orange\",\"Banana\",\"Cherry\"\n",
    "print(x)\n",
    "print(y)\n",
    "print(z)"
   ]
  },
  {
   "cell_type": "markdown",
   "id": "9fd17174-6c2c-4c8f-82ae-ca963977e736",
   "metadata": {},
   "source": [
    "Example2"
   ]
  },
  {
   "cell_type": "code",
   "execution_count": 96,
   "id": "b73c300a-2ce0-4558-9b6e-774f036e19e3",
   "metadata": {},
   "outputs": [
    {
     "name": "stdout",
     "output_type": "stream",
     "text": [
      "Orange\n",
      "Orange\n",
      "Orange\n"
     ]
    }
   ],
   "source": [
    "x=y=z=\"Orange\"\n",
    "print(x)\n",
    "print(y)\n",
    "print(z)"
   ]
  },
  {
   "cell_type": "markdown",
   "id": "8b786e01-909f-4438-beb3-533507d7c6b5",
   "metadata": {},
   "source": [
    "Example3"
   ]
  },
  {
   "cell_type": "code",
   "execution_count": 99,
   "id": "8d4644a7-0373-41a2-9d6d-730e7eef9cb7",
   "metadata": {},
   "outputs": [
    {
     "name": "stdout",
     "output_type": "stream",
     "text": [
      "apple\n",
      "banana\n",
      "cherry\n"
     ]
    }
   ],
   "source": [
    "fruits=[\"apple\",\"banana\",\"cherry\"]\n",
    "x,y,z = fruits\n",
    "print(x)\n",
    "print(y)\n",
    "print(z)"
   ]
  },
  {
   "cell_type": "markdown",
   "id": "6f24a290-397d-46da-988f-991eac5c392e",
   "metadata": {},
   "source": [
    "Output Variables"
   ]
  },
  {
   "cell_type": "markdown",
   "id": "458dd551-375a-466d-bf29-185985f32fb6",
   "metadata": {},
   "source": [
    "Example1"
   ]
  },
  {
   "cell_type": "code",
   "execution_count": 103,
   "id": "46a05bb4-f77c-4fb7-97e4-13b07b62fbc5",
   "metadata": {},
   "outputs": [
    {
     "name": "stdout",
     "output_type": "stream",
     "text": [
      "Python is awesome\n"
     ]
    }
   ],
   "source": [
    "x = \"Python is awesome\"\n",
    "print(x)"
   ]
  },
  {
   "cell_type": "markdown",
   "id": "97c4e6c7-5420-4dac-9ffd-8a74331f7924",
   "metadata": {},
   "source": [
    "Example2"
   ]
  },
  {
   "cell_type": "code",
   "execution_count": 106,
   "id": "8c5d69dd-e82f-4688-aeec-683b90ed7b1f",
   "metadata": {},
   "outputs": [
    {
     "name": "stdout",
     "output_type": "stream",
     "text": [
      "Python is awesome\n"
     ]
    }
   ],
   "source": [
    "x = \"Python\"\n",
    "y = \"is\"\n",
    "z = \"awesome\"\n",
    "print(x,y,z)"
   ]
  },
  {
   "cell_type": "markdown",
   "id": "5bc8bcf1-e845-4720-8025-9798a72f7cea",
   "metadata": {},
   "source": [
    "Example3"
   ]
  },
  {
   "cell_type": "code",
   "execution_count": 109,
   "id": "f6edbfa8-d19e-417b-9260-b9c02a009331",
   "metadata": {},
   "outputs": [
    {
     "name": "stdout",
     "output_type": "stream",
     "text": [
      "Pythonisawesome\n"
     ]
    }
   ],
   "source": [
    "x = \"Python\"\n",
    "y = \"is\"\n",
    "z = \"awesome\"\n",
    "print(x+y+z)"
   ]
  },
  {
   "cell_type": "markdown",
   "id": "294584ff-7d53-4c0f-9b7f-cc8189c77767",
   "metadata": {},
   "source": [
    "Example4"
   ]
  },
  {
   "cell_type": "code",
   "execution_count": 112,
   "id": "caea0777-70c9-4110-8a60-d9946a585f27",
   "metadata": {},
   "outputs": [
    {
     "name": "stdout",
     "output_type": "stream",
     "text": [
      "15\n"
     ]
    }
   ],
   "source": [
    "x = 5\n",
    "y = 10\n",
    "print(x+y)"
   ]
  },
  {
   "cell_type": "markdown",
   "id": "a1a8582d-dae1-4cf1-8b0c-4e3d437c2e87",
   "metadata": {},
   "source": [
    "Example5"
   ]
  },
  {
   "cell_type": "code",
   "execution_count": 115,
   "id": "a9028373-392a-469b-bcea-6e8901366e63",
   "metadata": {},
   "outputs": [
    {
     "name": "stdout",
     "output_type": "stream",
     "text": [
      "5 John\n"
     ]
    }
   ],
   "source": [
    "x = 5\n",
    "y = \"John\"\n",
    "print(x,y)"
   ]
  },
  {
   "cell_type": "markdown",
   "id": "5ce49b32-2eed-456d-9863-205835441d53",
   "metadata": {},
   "source": [
    "Example6"
   ]
  },
  {
   "cell_type": "code",
   "execution_count": 118,
   "id": "a1b06309-034e-422a-b249-6dc173ac5053",
   "metadata": {},
   "outputs": [
    {
     "ename": "TypeError",
     "evalue": "unsupported operand type(s) for +: 'int' and 'str'",
     "output_type": "error",
     "traceback": [
      "\u001b[1;31m---------------------------------------------------------------------------\u001b[0m",
      "\u001b[1;31mTypeError\u001b[0m                                 Traceback (most recent call last)",
      "Cell \u001b[1;32mIn[118], line 3\u001b[0m\n\u001b[0;32m      1\u001b[0m x \u001b[38;5;241m=\u001b[39m \u001b[38;5;241m5\u001b[39m\n\u001b[0;32m      2\u001b[0m y \u001b[38;5;241m=\u001b[39m \u001b[38;5;124m\"\u001b[39m\u001b[38;5;124mJohn\u001b[39m\u001b[38;5;124m\"\u001b[39m\n\u001b[1;32m----> 3\u001b[0m \u001b[38;5;28mprint\u001b[39m(x\u001b[38;5;241m+\u001b[39my)\n",
      "\u001b[1;31mTypeError\u001b[0m: unsupported operand type(s) for +: 'int' and 'str'"
     ]
    }
   ],
   "source": [
    "x = 5\n",
    "y = \"John\"\n",
    "print(x+y)"
   ]
  },
  {
   "cell_type": "markdown",
   "id": "36ef4a39-4d5a-4386-abc7-e3e4ff68e2cd",
   "metadata": {},
   "source": [
    "Global Variables"
   ]
  },
  {
   "cell_type": "markdown",
   "id": "155200e5-837a-4aa6-8857-3c63bad05245",
   "metadata": {},
   "source": [
    "Example1"
   ]
  },
  {
   "cell_type": "code",
   "execution_count": 126,
   "id": "7e421099-d68d-45d9-8904-bdcc15cf2dc9",
   "metadata": {},
   "outputs": [
    {
     "name": "stdout",
     "output_type": "stream",
     "text": [
      "Python is awesome\n"
     ]
    }
   ],
   "source": [
    "x = \"awesome\"\n",
    "def func():\n",
    "    print(\"Python is \"+x)\n",
    "func()"
   ]
  },
  {
   "cell_type": "markdown",
   "id": "b4e61eb3-0307-4821-b093-29ac4205e86f",
   "metadata": {},
   "source": [
    "Example2"
   ]
  },
  {
   "cell_type": "code",
   "execution_count": 129,
   "id": "ef994010-3940-4ceb-810c-5cb789fdf8fa",
   "metadata": {},
   "outputs": [
    {
     "name": "stdout",
     "output_type": "stream",
     "text": [
      "Python is fantastic\n",
      "Python is awesome\n"
     ]
    }
   ],
   "source": [
    "x=\"awesome\"\n",
    "def myfunc():\n",
    "    x=\"fantastic\"\n",
    "    print(\"Python is \"+x)\n",
    "myfunc()\n",
    "print(\"Python is \"+x)"
   ]
  },
  {
   "cell_type": "markdown",
   "id": "0fce240b-91a2-453d-9f5c-f6670e8e5e06",
   "metadata": {},
   "source": [
    "Example3"
   ]
  },
  {
   "cell_type": "code",
   "execution_count": 132,
   "id": "b407f363-663b-42bb-88e1-c3dccbdffa4e",
   "metadata": {},
   "outputs": [
    {
     "name": "stdout",
     "output_type": "stream",
     "text": [
      "Python is Fantastic\n"
     ]
    }
   ],
   "source": [
    "def myfunc():\n",
    "    global x\n",
    "    x = \"Fantastic\"\n",
    "myfunc()\n",
    "print(\"Python is \"+x)"
   ]
  },
  {
   "cell_type": "markdown",
   "id": "53b0ab4f-9351-44e2-a9d5-9b78bb8a2844",
   "metadata": {},
   "source": [
    "Python Data Type"
   ]
  },
  {
   "cell_type": "code",
   "execution_count": 136,
   "id": "473fc378-61cd-4999-8f8b-6212e0de1f25",
   "metadata": {},
   "outputs": [
    {
     "name": "stdout",
     "output_type": "stream",
     "text": [
      "<class 'int'>\n"
     ]
    }
   ],
   "source": [
    "x = 5\n",
    "print(type(x))"
   ]
  },
  {
   "cell_type": "markdown",
   "id": "a2da2f31-9715-4cd6-b44c-8caf97e18cda",
   "metadata": {},
   "source": [
    "Python Numbers"
   ]
  },
  {
   "cell_type": "markdown",
   "id": "b716ddb4-9cff-4a5f-a2b3-12a6fe72c61b",
   "metadata": {},
   "source": [
    "Example"
   ]
  },
  {
   "cell_type": "code",
   "execution_count": 140,
   "id": "2d717c5e-4e32-43f4-84f3-b1f52b96c7b2",
   "metadata": {},
   "outputs": [],
   "source": [
    "x = 1 #int\n",
    "y = 2.8 #float\n",
    "z = 1j #complex"
   ]
  },
  {
   "cell_type": "markdown",
   "id": "7a671e18-733f-4fad-b892-aa7e683c8740",
   "metadata": {},
   "source": [
    "Example2"
   ]
  },
  {
   "cell_type": "code",
   "execution_count": 143,
   "id": "642c52f0-daf3-4574-914d-757f7ef0e6c5",
   "metadata": {},
   "outputs": [
    {
     "name": "stdout",
     "output_type": "stream",
     "text": [
      "<class 'int'>\n",
      "<class 'float'>\n",
      "<class 'complex'>\n"
     ]
    }
   ],
   "source": [
    "print(type(x))\n",
    "print(type(y))\n",
    "print(type(z))"
   ]
  },
  {
   "cell_type": "markdown",
   "id": "ca9c8d85-8882-4a32-8b75-048843d7c61f",
   "metadata": {},
   "source": [
    "Example3"
   ]
  },
  {
   "cell_type": "code",
   "execution_count": 146,
   "id": "69b6353f-f078-40e8-935b-8aba054a5dd8",
   "metadata": {},
   "outputs": [
    {
     "name": "stdout",
     "output_type": "stream",
     "text": [
      "<class 'int'>\n",
      "<class 'int'>\n",
      "<class 'int'>\n"
     ]
    }
   ],
   "source": [
    "x=1\n",
    "y=35656222554887711\n",
    "z=-3255522\n",
    "print(type(x))\n",
    "print(type(y))\n",
    "print(type(z))"
   ]
  },
  {
   "cell_type": "markdown",
   "id": "7af9bd0e-9c89-4232-ad6f-8813e5623775",
   "metadata": {},
   "source": [
    "Example4"
   ]
  },
  {
   "cell_type": "code",
   "execution_count": 149,
   "id": "cd3014e7-85d8-4cc8-8580-8323d6598852",
   "metadata": {},
   "outputs": [
    {
     "name": "stdout",
     "output_type": "stream",
     "text": [
      "<class 'float'>\n",
      "<class 'float'>\n",
      "<class 'float'>\n"
     ]
    }
   ],
   "source": [
    "x=1.10\n",
    "y=1.0\n",
    "z=-35.59\n",
    "print(type(x))\n",
    "print(type(y))\n",
    "print(type(z))"
   ]
  },
  {
   "cell_type": "markdown",
   "id": "fb14ce64-3c41-4069-912d-c777b4bda1c2",
   "metadata": {},
   "source": [
    "Example5"
   ]
  },
  {
   "cell_type": "code",
   "execution_count": 152,
   "id": "a5838186-567b-4dc8-9d17-d43a7249cc6e",
   "metadata": {},
   "outputs": [
    {
     "name": "stdout",
     "output_type": "stream",
     "text": [
      "<class 'float'>\n",
      "<class 'float'>\n",
      "<class 'float'>\n"
     ]
    }
   ],
   "source": [
    "x=35e3\n",
    "y=12E4\n",
    "z=-87.7e100\n",
    "print(type(x))\n",
    "print(type(y))\n",
    "print(type(z))"
   ]
  },
  {
   "cell_type": "markdown",
   "id": "7666d449-a8c2-4e4d-a315-8a984ae02af5",
   "metadata": {},
   "source": [
    "Example6"
   ]
  },
  {
   "cell_type": "code",
   "execution_count": 155,
   "id": "6e58347e-d91a-4da0-9ec8-bca5217d358e",
   "metadata": {},
   "outputs": [
    {
     "name": "stdout",
     "output_type": "stream",
     "text": [
      "<class 'complex'>\n",
      "<class 'complex'>\n",
      "<class 'complex'>\n"
     ]
    }
   ],
   "source": [
    "x=3+5j\n",
    "y=5j\n",
    "z=-5j\n",
    "print(type(x))\n",
    "print(type(y))\n",
    "print(type(z))"
   ]
  },
  {
   "cell_type": "markdown",
   "id": "a8872884-e444-4019-b5e7-f06a0f02b279",
   "metadata": {},
   "source": [
    "Example7"
   ]
  },
  {
   "cell_type": "code",
   "execution_count": 158,
   "id": "24d26c41-1872-44a7-a260-219c968ccd48",
   "metadata": {},
   "outputs": [
    {
     "name": "stdout",
     "output_type": "stream",
     "text": [
      "1.0\n",
      "2\n",
      "(1+0j)\n",
      "<class 'float'>\n",
      "<class 'int'>\n",
      "<class 'complex'>\n"
     ]
    }
   ],
   "source": [
    "x=1 # int\n",
    "y=2.8 # float\n",
    "z=1j # complex\n",
    "#convert from int to float:\n",
    "a=float(x)\n",
    "#convert from float to int:\n",
    "b=int(y)\n",
    "#convert from int to complex:\n",
    "c=complex(x)\n",
    "print(a)\n",
    "print(b)\n",
    "print(c)\n",
    "print(type(a))\n",
    "print(type(b))\n",
    "print(type(c))"
   ]
  },
  {
   "cell_type": "markdown",
   "id": "73c6f1a8-0c08-45f7-961b-d3185d1ad7c1",
   "metadata": {},
   "source": [
    "Example8"
   ]
  },
  {
   "cell_type": "code",
   "execution_count": 161,
   "id": "a5b7e1ca-3ee1-49e8-82d5-741f237d9266",
   "metadata": {},
   "outputs": [
    {
     "name": "stdout",
     "output_type": "stream",
     "text": [
      "5\n"
     ]
    }
   ],
   "source": [
    "import random\n",
    "print(random.randrange(1, 10))"
   ]
  },
  {
   "cell_type": "markdown",
   "id": "f2ce8549-b707-40ff-9227-d16c879fd186",
   "metadata": {},
   "source": [
    "Python Casting"
   ]
  },
  {
   "cell_type": "markdown",
   "id": "61f771ae-8a36-4021-8358-52dc477d2a89",
   "metadata": {},
   "source": [
    "Example1"
   ]
  },
  {
   "cell_type": "code",
   "execution_count": 171,
   "id": "9f30ced0-a0ae-4d60-a86a-10b0641dc16f",
   "metadata": {},
   "outputs": [],
   "source": [
    "x=int(1) #x will be 1\n",
    "y=int(2.8) #y will be 2\n",
    "z=int(\"3\") #z will be 3"
   ]
  },
  {
   "cell_type": "markdown",
   "id": "48cbe407-65fa-4999-9dd4-3235bf827f0f",
   "metadata": {},
   "source": [
    "Example2"
   ]
  },
  {
   "cell_type": "code",
   "execution_count": 173,
   "id": "c79f4bd8-5e1f-4643-9daa-535d9865f476",
   "metadata": {},
   "outputs": [],
   "source": [
    "x=float(1) #x will be 1.0\n",
    "y=float(2.8) #y will be 2.8\n",
    "z=float(\"3\") #z will be 3.0\n",
    "w=float(\"4.2\") #w will be 4.2"
   ]
  },
  {
   "cell_type": "markdown",
   "id": "3941c740-3ecd-470f-96cf-c94cb9ec3c05",
   "metadata": {},
   "source": [
    "Example3"
   ]
  },
  {
   "cell_type": "code",
   "execution_count": 175,
   "id": "6b92606c-27c8-4fba-9bdb-0381a96b71e6",
   "metadata": {},
   "outputs": [],
   "source": [
    "x=str(\"s1\") #x will be 's1'\n",
    "y=str(2) #y will be '2'\n",
    "z=str(3.0) #z will be '3.0'"
   ]
  },
  {
   "cell_type": "markdown",
   "id": "84d2aaa7-3b9f-47cc-b392-7cdfef33b4be",
   "metadata": {},
   "source": [
    "Strings"
   ]
  },
  {
   "cell_type": "markdown",
   "id": "823a4dd8-66a2-4c06-a21c-c52a635413c1",
   "metadata": {},
   "source": [
    "Example1"
   ]
  },
  {
   "cell_type": "code",
   "execution_count": 179,
   "id": "3760b009-fec8-4436-847c-7eb4b6cd9a31",
   "metadata": {},
   "outputs": [
    {
     "name": "stdout",
     "output_type": "stream",
     "text": [
      "Hello\n",
      "Hello\n"
     ]
    }
   ],
   "source": [
    "print(\"Hello\")\n",
    "print('Hello')"
   ]
  },
  {
   "cell_type": "markdown",
   "id": "c97b672e-3c3a-4a0b-914d-cc30e1db87f3",
   "metadata": {},
   "source": [
    "Example2"
   ]
  },
  {
   "cell_type": "code",
   "execution_count": 182,
   "id": "6a2fe790-a4ec-49f7-8007-d3333577a09d",
   "metadata": {},
   "outputs": [
    {
     "name": "stdout",
     "output_type": "stream",
     "text": [
      "It's alright\n",
      "He is called 'Johnny'\n",
      "He is called \"Johnny\"\n"
     ]
    }
   ],
   "source": [
    "print(\"It's alright\")\n",
    "print(\"He is called 'Johnny'\")\n",
    "print('He is called \"Johnny\"')"
   ]
  },
  {
   "cell_type": "markdown",
   "id": "29df26b0-1acf-49ed-b72c-c4cbb39db44b",
   "metadata": {},
   "source": [
    "Example3"
   ]
  },
  {
   "cell_type": "code",
   "execution_count": 185,
   "id": "71e3d875-c400-4865-b624-ef4e1e48fdb1",
   "metadata": {},
   "outputs": [
    {
     "name": "stdout",
     "output_type": "stream",
     "text": [
      "Hello\n"
     ]
    }
   ],
   "source": [
    "a=\"Hello\"\n",
    "print(a)"
   ]
  },
  {
   "cell_type": "markdown",
   "id": "eb8f80a6-df73-4a91-9064-fae5fc470772",
   "metadata": {},
   "source": [
    "Example4"
   ]
  },
  {
   "cell_type": "code",
   "execution_count": 188,
   "id": "7080d8ae-c93c-400e-81c2-d1ce99a76915",
   "metadata": {},
   "outputs": [
    {
     "name": "stdout",
     "output_type": "stream",
     "text": [
      "Lorem ipsum dolor sit amet,\n",
      "consectetur adipiscing elit,\n",
      "sed do eiusmod tempor incididunt\n",
      "ut labore et dolore magna aliqua.\n"
     ]
    }
   ],
   "source": [
    "a=\"\"\"Lorem ipsum dolor sit amet,\n",
    "consectetur adipiscing elit,\n",
    "sed do eiusmod tempor incididunt\n",
    "ut labore et dolore magna aliqua.\"\"\"\n",
    "print(a)"
   ]
  },
  {
   "cell_type": "markdown",
   "id": "d0628aab-f589-4abe-944b-9c5eb5b0b9db",
   "metadata": {},
   "source": [
    "Example5"
   ]
  },
  {
   "cell_type": "code",
   "execution_count": 191,
   "id": "63342d51-6e75-4c2a-9232-8c570a56db76",
   "metadata": {},
   "outputs": [
    {
     "name": "stdout",
     "output_type": "stream",
     "text": [
      "Lorem ipsum dolor sit amet,\n",
      "consectetur adipiscing elit,\n",
      "sed do eiusmod tempor incididunt\n",
      "ut labore et dolore magna aliqua.\n"
     ]
    }
   ],
   "source": [
    "a='''Lorem ipsum dolor sit amet,\n",
    "consectetur adipiscing elit,\n",
    "sed do eiusmod tempor incididunt\n",
    "ut labore et dolore magna aliqua.'''\n",
    "print(a)"
   ]
  },
  {
   "cell_type": "markdown",
   "id": "8027ad25-fce5-406e-95bc-4c8dd87ca696",
   "metadata": {},
   "source": [
    "Example6"
   ]
  },
  {
   "cell_type": "code",
   "execution_count": 194,
   "id": "5bcb2fba-ec5c-4c24-8b9e-55bfd96301b1",
   "metadata": {},
   "outputs": [
    {
     "name": "stdout",
     "output_type": "stream",
     "text": [
      "e\n"
     ]
    }
   ],
   "source": [
    "a=\"Hello,World!\"\n",
    "print(a[1])"
   ]
  },
  {
   "cell_type": "markdown",
   "id": "e7cf729d-69ef-48da-ad44-9de371e365d9",
   "metadata": {},
   "source": [
    "Example7"
   ]
  },
  {
   "cell_type": "code",
   "execution_count": 197,
   "id": "b29860e9-7e2d-4339-81e3-37be968e185b",
   "metadata": {},
   "outputs": [
    {
     "name": "stdout",
     "output_type": "stream",
     "text": [
      "b\n",
      "a\n",
      "n\n",
      "a\n",
      "n\n",
      "a\n"
     ]
    }
   ],
   "source": [
    "for x in \"banana\":\n",
    "  print(x)"
   ]
  },
  {
   "cell_type": "markdown",
   "id": "12ca65a6-3610-419a-8397-61136d92c617",
   "metadata": {},
   "source": [
    "Example8"
   ]
  },
  {
   "cell_type": "code",
   "execution_count": 200,
   "id": "55c6e589-ff52-4b7b-87d6-3d7980ddf9f8",
   "metadata": {},
   "outputs": [
    {
     "name": "stdout",
     "output_type": "stream",
     "text": [
      "12\n"
     ]
    }
   ],
   "source": [
    "a=\"Hello,World!\"\n",
    "print(len(a))"
   ]
  },
  {
   "cell_type": "markdown",
   "id": "8f648cc9-7bc6-41e9-8424-2165288a2613",
   "metadata": {},
   "source": [
    "Example9"
   ]
  },
  {
   "cell_type": "code",
   "execution_count": 203,
   "id": "312bfc50-ee2f-4329-ae3e-8ee6682051b3",
   "metadata": {},
   "outputs": [
    {
     "name": "stdout",
     "output_type": "stream",
     "text": [
      "True\n"
     ]
    }
   ],
   "source": [
    "txt=\"The best things in life are free!\"\n",
    "print(\"free\"in txt)"
   ]
  },
  {
   "cell_type": "markdown",
   "id": "ff4cdd0f-448b-4944-8913-fa3053f0057e",
   "metadata": {},
   "source": [
    "Example10"
   ]
  },
  {
   "cell_type": "code",
   "execution_count": 206,
   "id": "1241b7d1-4cd0-4716-ae70-c76d4876c7ff",
   "metadata": {},
   "outputs": [
    {
     "name": "stdout",
     "output_type": "stream",
     "text": [
      "Yes,'free'is present.\n"
     ]
    }
   ],
   "source": [
    "txt=\"The best things in life are free!\"\n",
    "if\"free\"in txt:\n",
    "  print(\"Yes,'free'is present.\")"
   ]
  },
  {
   "cell_type": "markdown",
   "id": "5633e842-1f7c-4f82-92b0-f4fce01799d7",
   "metadata": {},
   "source": [
    "Example11"
   ]
  },
  {
   "cell_type": "code",
   "execution_count": 209,
   "id": "f92bac8d-871f-4e51-a718-63982441b1d9",
   "metadata": {},
   "outputs": [
    {
     "name": "stdout",
     "output_type": "stream",
     "text": [
      "True\n"
     ]
    }
   ],
   "source": [
    "txt=\"The best things in life are free!\"\n",
    "print(\"expensive\"not in txt)"
   ]
  },
  {
   "cell_type": "markdown",
   "id": "30e61fa0-de42-42da-9109-60f43b226d04",
   "metadata": {},
   "source": [
    "Example12"
   ]
  },
  {
   "cell_type": "code",
   "execution_count": 212,
   "id": "149cf190-ebe4-4b0a-bebe-d0069741cb54",
   "metadata": {},
   "outputs": [
    {
     "name": "stdout",
     "output_type": "stream",
     "text": [
      "No,'expensive'is NOT present.\n"
     ]
    }
   ],
   "source": [
    "txt=\"The best things in life are free!\"\n",
    "if\"expensive\"not in txt:\n",
    "  print(\"No,'expensive'is NOT present.\")"
   ]
  },
  {
   "cell_type": "markdown",
   "id": "aa5a2157-6d80-4341-9004-5aaaadb660f9",
   "metadata": {},
   "source": [
    "Slicing string"
   ]
  },
  {
   "cell_type": "markdown",
   "id": "aec4a1b0-5de4-4ff1-b2cc-3279644e17aa",
   "metadata": {},
   "source": [
    "Example1"
   ]
  },
  {
   "cell_type": "code",
   "execution_count": 216,
   "id": "df0050a9-dcba-4df0-8b81-0897b9bd773a",
   "metadata": {},
   "outputs": [
    {
     "name": "stdout",
     "output_type": "stream",
     "text": [
      "llo\n"
     ]
    }
   ],
   "source": [
    "b=\"Hello, World!\"\n",
    "print(b[2:5])"
   ]
  },
  {
   "cell_type": "markdown",
   "id": "82445f1f-f440-4799-a493-9eb287159157",
   "metadata": {},
   "source": [
    "Example2"
   ]
  },
  {
   "cell_type": "code",
   "execution_count": 219,
   "id": "6355a6cc-1023-413b-903b-d359b6eac546",
   "metadata": {},
   "outputs": [
    {
     "name": "stdout",
     "output_type": "stream",
     "text": [
      "Hello\n"
     ]
    }
   ],
   "source": [
    "b=\"Hello, World!\"\n",
    "print(b[:5])"
   ]
  },
  {
   "cell_type": "markdown",
   "id": "07bff706-e15f-4b0d-accd-3d0dff137250",
   "metadata": {},
   "source": [
    "Example3"
   ]
  },
  {
   "cell_type": "code",
   "execution_count": 222,
   "id": "b7b85125-0716-489e-8252-1d088780db70",
   "metadata": {},
   "outputs": [
    {
     "name": "stdout",
     "output_type": "stream",
     "text": [
      "llo, World!\n"
     ]
    }
   ],
   "source": [
    "b=\"Hello, World!\"\n",
    "print(b[2:])"
   ]
  },
  {
   "cell_type": "markdown",
   "id": "b1a1267b-8c61-49dc-8d4e-fec1efbdb33e",
   "metadata": {},
   "source": [
    "Example4"
   ]
  },
  {
   "cell_type": "code",
   "execution_count": 225,
   "id": "5c334054-51d5-41a1-ab88-469f7efa977d",
   "metadata": {},
   "outputs": [
    {
     "name": "stdout",
     "output_type": "stream",
     "text": [
      "orl\n"
     ]
    }
   ],
   "source": [
    "b=\"Hello, World!\"\n",
    "print(b[-5:-2])"
   ]
  },
  {
   "cell_type": "markdown",
   "id": "131d864c-579e-4469-b860-d6394c0a4892",
   "metadata": {},
   "source": [
    "Example5"
   ]
  },
  {
   "cell_type": "code",
   "execution_count": 230,
   "id": "43504907-98d1-4181-9233-de3fc324adf5",
   "metadata": {},
   "outputs": [
    {
     "name": "stdout",
     "output_type": "stream",
     "text": [
      "HELLO,WORLD!\n"
     ]
    }
   ],
   "source": [
    "a=\"Hello,World!\"\n",
    "print(a.upper())"
   ]
  },
  {
   "cell_type": "markdown",
   "id": "03b20b42-b4cc-44ec-95f9-0b1c0121c860",
   "metadata": {},
   "source": [
    "Example6"
   ]
  },
  {
   "cell_type": "code",
   "execution_count": 236,
   "id": "fdb45dfa-dbfa-44e0-82e9-3b5d070223f1",
   "metadata": {},
   "outputs": [
    {
     "name": "stdout",
     "output_type": "stream",
     "text": [
      "hello,world!\n"
     ]
    }
   ],
   "source": [
    "a=\"Hello,World!\"\n",
    "print(a.lower())"
   ]
  },
  {
   "cell_type": "markdown",
   "id": "3eff221b-1d61-486a-9e2d-7d749315b3f4",
   "metadata": {},
   "source": [
    "Example7"
   ]
  },
  {
   "cell_type": "code",
   "execution_count": 238,
   "id": "ecc8bc0b-cae3-4158-a3f8-3ebb5dfd8afe",
   "metadata": {},
   "outputs": [
    {
     "name": "stdout",
     "output_type": "stream",
     "text": [
      "Jello,World!\n"
     ]
    }
   ],
   "source": [
    "a=\"Hello,World!\"\n",
    "print(a.replace(\"H\",\"J\"))"
   ]
  },
  {
   "cell_type": "markdown",
   "id": "bbfc78b6-1fd1-4818-a551-ca91d9fdde1b",
   "metadata": {},
   "source": [
    "Example8"
   ]
  },
  {
   "cell_type": "code",
   "execution_count": 243,
   "id": "2541b889-b4cf-4f2a-b9bb-e37670aeb301",
   "metadata": {},
   "outputs": [
    {
     "name": "stdout",
     "output_type": "stream",
     "text": [
      "['Hello', 'World!']\n"
     ]
    }
   ],
   "source": [
    "a=\"Hello,World!\"\n",
    "print(a.split(\",\"))#returns['Hello', 'World!']"
   ]
  },
  {
   "cell_type": "markdown",
   "id": "7dbc97e8-20bd-4b21-bdbb-77026717e27f",
   "metadata": {},
   "source": [
    "Example9"
   ]
  },
  {
   "cell_type": "code",
   "execution_count": 246,
   "id": "c1060b75-16f0-4bda-a38c-70799ae14492",
   "metadata": {},
   "outputs": [
    {
     "name": "stdout",
     "output_type": "stream",
     "text": [
      "HelloWorld\n"
     ]
    }
   ],
   "source": [
    "a=\"Hello\"\n",
    "b=\"World\"\n",
    "c=a + b\n",
    "print(c)"
   ]
  },
  {
   "cell_type": "markdown",
   "id": "eec1c1f0-d78a-488a-9f97-f22be025b21b",
   "metadata": {},
   "source": [
    "Example10"
   ]
  },
  {
   "cell_type": "code",
   "execution_count": 249,
   "id": "440c7b09-8687-4915-a315-6f68839b0021",
   "metadata": {},
   "outputs": [
    {
     "name": "stdout",
     "output_type": "stream",
     "text": [
      "Hello World\n"
     ]
    }
   ],
   "source": [
    "a=\"Hello\"\n",
    "b=\"World\"\n",
    "c=a+\" \"+b\n",
    "print(c)"
   ]
  },
  {
   "cell_type": "markdown",
   "id": "35bd5dc7-76d0-417e-b828-1be2f5c1d23f",
   "metadata": {},
   "source": [
    "Example11"
   ]
  },
  {
   "cell_type": "code",
   "execution_count": 252,
   "id": "3c31b2a0-b42a-423e-8c79-acf15c64662c",
   "metadata": {},
   "outputs": [
    {
     "ename": "TypeError",
     "evalue": "can only concatenate str (not \"int\") to str",
     "output_type": "error",
     "traceback": [
      "\u001b[1;31m---------------------------------------------------------------------------\u001b[0m",
      "\u001b[1;31mTypeError\u001b[0m                                 Traceback (most recent call last)",
      "Cell \u001b[1;32mIn[252], line 2\u001b[0m\n\u001b[0;32m      1\u001b[0m age\u001b[38;5;241m=\u001b[39m\u001b[38;5;241m36\u001b[39m\n\u001b[1;32m----> 2\u001b[0m txt\u001b[38;5;241m=\u001b[39m\u001b[38;5;124m\"\u001b[39m\u001b[38;5;124mMy name is John,Iam \u001b[39m\u001b[38;5;124m\"\u001b[39m \u001b[38;5;241m+\u001b[39m age\n\u001b[0;32m      3\u001b[0m \u001b[38;5;28mprint\u001b[39m(txt)\n",
      "\u001b[1;31mTypeError\u001b[0m: can only concatenate str (not \"int\") to str"
     ]
    }
   ],
   "source": [
    "age=36\n",
    "txt=\"My name is John,Iam \" + age\n",
    "print(txt)"
   ]
  },
  {
   "cell_type": "markdown",
   "id": "16bae180-61c2-407b-b517-4379158249e9",
   "metadata": {},
   "source": [
    "Example12"
   ]
  },
  {
   "cell_type": "code",
   "execution_count": 255,
   "id": "dd6fd1aa-79c0-4f44-bb49-5c626be673f4",
   "metadata": {},
   "outputs": [
    {
     "name": "stdout",
     "output_type": "stream",
     "text": [
      "My name is John, I am 36\n"
     ]
    }
   ],
   "source": [
    "age=36\n",
    "txt=f\"My name is John, I am {age}\"\n",
    "print(txt)"
   ]
  },
  {
   "cell_type": "markdown",
   "id": "83f9ba41-cfbe-4d5d-94b3-67b63f882779",
   "metadata": {},
   "source": [
    "Example13"
   ]
  },
  {
   "cell_type": "code",
   "execution_count": 258,
   "id": "81e3cc87-12be-4960-96c8-a114cbbcc39e",
   "metadata": {},
   "outputs": [
    {
     "name": "stdout",
     "output_type": "stream",
     "text": [
      "The price is 59 dollars\n"
     ]
    }
   ],
   "source": [
    "price=59\n",
    "txt=f\"The price is {price} dollars\"\n",
    "print(txt)"
   ]
  },
  {
   "cell_type": "markdown",
   "id": "4af48146-7e8b-4b37-8d0a-f04ef9eef7c3",
   "metadata": {},
   "source": [
    "Example14"
   ]
  },
  {
   "cell_type": "code",
   "execution_count": 261,
   "id": "5e85c400-8b6b-4dab-926f-1a6122f88997",
   "metadata": {},
   "outputs": [
    {
     "name": "stdout",
     "output_type": "stream",
     "text": [
      "The price is 59.00 dollars\n"
     ]
    }
   ],
   "source": [
    "price=59\n",
    "txt=f\"The price is {price:.2f} dollars\"\n",
    "print(txt)"
   ]
  },
  {
   "cell_type": "markdown",
   "id": "e6625b4f-5a8b-48e8-8dec-2d4b360dd89a",
   "metadata": {},
   "source": [
    "Example15"
   ]
  },
  {
   "cell_type": "code",
   "execution_count": 264,
   "id": "c72bf3b4-86f9-42f1-b615-5f6fc7344ddb",
   "metadata": {},
   "outputs": [
    {
     "name": "stdout",
     "output_type": "stream",
     "text": [
      "The price is1180dollars\n"
     ]
    }
   ],
   "source": [
    "txt=f\"The price is{20 * 59}dollars\"\n",
    "print(txt)"
   ]
  },
  {
   "cell_type": "markdown",
   "id": "3263a815-5199-4806-ba66-09b717144b5e",
   "metadata": {},
   "source": [
    "Example16"
   ]
  },
  {
   "cell_type": "code",
   "execution_count": 267,
   "id": "f69a0c5f-98fa-4083-aff2-00ab6142e4b0",
   "metadata": {},
   "outputs": [
    {
     "ename": "SyntaxError",
     "evalue": "invalid syntax (3095929170.py, line 1)",
     "output_type": "error",
     "traceback": [
      "\u001b[1;36m  Cell \u001b[1;32mIn[267], line 1\u001b[1;36m\u001b[0m\n\u001b[1;33m    txt=\"We are the so-called \"Vikings\" from the north.\"\u001b[0m\n\u001b[1;37m                               ^\u001b[0m\n\u001b[1;31mSyntaxError\u001b[0m\u001b[1;31m:\u001b[0m invalid syntax\n"
     ]
    }
   ],
   "source": [
    "txt=\"We are the so-called \"Vikings\" from the north.\""
   ]
  },
  {
   "cell_type": "markdown",
   "id": "b74b6f60-88ac-445a-ac38-531f49d2043c",
   "metadata": {},
   "source": [
    "Example17"
   ]
  },
  {
   "cell_type": "code",
   "execution_count": 270,
   "id": "bffe2929-564d-4439-9e7e-02656daf0d5a",
   "metadata": {},
   "outputs": [],
   "source": [
    "txt=\"We are the so-called \\\"Vikings\\\" from the north.\""
   ]
  }
 ],
 "metadata": {
  "kernelspec": {
   "display_name": "Python [conda env:base] *",
   "language": "python",
   "name": "conda-base-py"
  },
  "language_info": {
   "codemirror_mode": {
    "name": "ipython",
    "version": 3
   },
   "file_extension": ".py",
   "mimetype": "text/x-python",
   "name": "python",
   "nbconvert_exporter": "python",
   "pygments_lexer": "ipython3",
   "version": "3.12.7"
  }
 },
 "nbformat": 4,
 "nbformat_minor": 5
}
