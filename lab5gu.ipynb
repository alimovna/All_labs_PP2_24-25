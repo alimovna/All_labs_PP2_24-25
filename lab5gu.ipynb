{
 "cells": [
  {
   "cell_type": "code",
   "execution_count": 1,
   "id": "1037b455-7d7b-45e2-947f-acb66d62e498",
   "metadata": {},
   "outputs": [
    {
     "name": "stdin",
     "output_type": "stream",
     "text": [
      " a\n"
     ]
    },
    {
     "name": "stdout",
     "output_type": "stream",
     "text": [
      "True\n"
     ]
    }
   ],
   "source": [
    "import re\n",
    "text=input()\n",
    "if re.search(\"a+b*\",text):\n",
    "    print (\"True\")\n",
    "else:\n",
    "    print(\"False\")"
   ]
  },
  {
   "cell_type": "code",
   "execution_count": 3,
   "id": "1855dc1f-7cd4-4ecc-9be5-89618a7cc866",
   "metadata": {},
   "outputs": [
    {
     "name": "stdin",
     "output_type": "stream",
     "text": [
      " abb\n"
     ]
    },
    {
     "name": "stdout",
     "output_type": "stream",
     "text": [
      "True\n"
     ]
    }
   ],
   "source": [
    "import re\n",
    "text=input()\n",
    "if re.search(\"a+b{2,3}$\",text):\n",
    "    print (\"True\")\n",
    "else:\n",
    "    print(\"False\")"
   ]
  },
  {
   "cell_type": "code",
   "execution_count": 5,
   "id": "be3e871d-aa86-4e27-94c7-816822610d55",
   "metadata": {},
   "outputs": [
    {
     "name": "stdin",
     "output_type": "stream",
     "text": [
      " guka_top_topdadam padam\n"
     ]
    },
    {
     "name": "stdout",
     "output_type": "stream",
     "text": [
      "True\n"
     ]
    }
   ],
   "source": [
    "import re\n",
    "text=input()\n",
    "if re.search(\"[a-z]+(_[a-z]+)\",text):\n",
    "    print (\"True\")\n",
    "else:\n",
    "    print(\"False\")"
   ]
  },
  {
   "cell_type": "code",
   "execution_count": 11,
   "id": "27a3c963-8795-4e56-98a9-b7f0cf652d63",
   "metadata": {},
   "outputs": [
    {
     "name": "stdin",
     "output_type": "stream",
     "text": [
      " Hello\n"
     ]
    },
    {
     "name": "stdout",
     "output_type": "stream",
     "text": [
      "True\n"
     ]
    }
   ],
   "source": [
    "import re\n",
    "text=input()\n",
    "if re.search(\"[A-Z]+([a-z]+)\",text):\n",
    "    print (\"True\")\n",
    "else:\n",
    "    print(\"False\")"
   ]
  },
  {
   "cell_type": "code",
   "execution_count": 13,
   "id": "9e4f7cd6-8b00-4644-9f6b-38b4c9633f62",
   "metadata": {},
   "outputs": [
    {
     "name": "stdin",
     "output_type": "stream",
     "text": [
      " jciovi\n"
     ]
    },
    {
     "name": "stdout",
     "output_type": "stream",
     "text": [
      "False\n"
     ]
    }
   ],
   "source": [
    "import re\n",
    "text=input()\n",
    "if re.search(\"a+[a-z]*b+\",text):\n",
    "    print (\"True\")\n",
    "else:\n",
    "    print(\"False\")"
   ]
  },
  {
   "cell_type": "code",
   "execution_count": 15,
   "id": "b703669f-5494-48dd-b932-64cee0557bed",
   "metadata": {},
   "outputs": [
    {
     "name": "stdin",
     "output_type": "stream",
     "text": [
      " gukash,top,top\n"
     ]
    },
    {
     "name": "stdout",
     "output_type": "stream",
     "text": [
      "gukash:top:top\n"
     ]
    }
   ],
   "source": [
    "import re\n",
    "text=input()\n",
    "new_text = re.sub(r\"[\\s,\\.]\", \":\", text)\n",
    "print(new_text)"
   ]
  },
  {
   "cell_type": "code",
   "execution_count": 17,
   "id": "0be5d96a-1e4f-4d7e-8832-fc0912ea0b87",
   "metadata": {},
   "outputs": [
    {
     "name": "stdin",
     "output_type": "stream",
     "text": [
      " gukash_top_top\n"
     ]
    },
    {
     "name": "stdout",
     "output_type": "stream",
     "text": [
      "gukashTopTop\n"
     ]
    }
   ],
   "source": [
    "a = input()\n",
    "new = \"\"\n",
    "i=0\n",
    "while i<len(a):\n",
    "    if a[i] == \"_\":\n",
    "        new += a[i + 1].upper()\n",
    "        a = a[:i] + a[i+1:]\n",
    "    else:\n",
    "        new += a[i]\n",
    "    i+=1\n",
    "print(new)"
   ]
  },
  {
   "cell_type": "code",
   "execution_count": 19,
   "id": "44cb0129-bb23-46d9-9656-fa28af129f00",
   "metadata": {},
   "outputs": [
    {
     "name": "stdin",
     "output_type": "stream",
     "text": [
      " Gukash Top top\n"
     ]
    },
    {
     "name": "stdout",
     "output_type": "stream",
     "text": [
      "['Gukash', 'Top', 'top']\n"
     ]
    }
   ],
   "source": [
    "import re\n",
    "a=input()\n",
    "result = re.findall(r'[a-z]+|[A-Z][a-z]*', a)\n",
    "print(result)"
   ]
  },
  {
   "cell_type": "code",
   "execution_count": 23,
   "id": "ee620c11-10d7-410b-83d1-2789ca6b1dc6",
   "metadata": {},
   "outputs": [
    {
     "name": "stdin",
     "output_type": "stream",
     "text": [
      " GukashTop\n"
     ]
    },
    {
     "name": "stdout",
     "output_type": "stream",
     "text": [
      "Gukash Top\n"
     ]
    }
   ],
   "source": [
    "import re\n",
    "\n",
    "a = input()\n",
    "\n",
    "\n",
    "result = re.sub(r'([a-z])([A-Z])', r'\\1 \\2', a)\n",
    "\n",
    "print(result)"
   ]
  },
  {
   "cell_type": "code",
   "execution_count": 25,
   "id": "26f2d90c-2ad9-456d-a1dd-1ddfe8918012",
   "metadata": {},
   "outputs": [
    {
     "name": "stdin",
     "output_type": "stream",
     "text": [
      " GukashTop\n"
     ]
    },
    {
     "name": "stdout",
     "output_type": "stream",
     "text": [
      "_gukash_top\n"
     ]
    }
   ],
   "source": [
    "a=input()\n",
    "i=0\n",
    "result=\"\"\n",
    "while i<len(a):\n",
    "    if (a[i].isupper()):\n",
    "        result+=\"_\"\n",
    "        result+=a[i].lower()\n",
    "    else:\n",
    "        result+=a[i]\n",
    "    i+=1\n",
    "print(result)"
   ]
  }
 ],
 "metadata": {
  "kernelspec": {
   "display_name": "Python [conda env:base] *",
   "language": "python",
   "name": "conda-base-py"
  },
  "language_info": {
   "codemirror_mode": {
    "name": "ipython",
    "version": 3
   },
   "file_extension": ".py",
   "mimetype": "text/x-python",
   "name": "python",
   "nbconvert_exporter": "python",
   "pygments_lexer": "ipython3",
   "version": "3.12.7"
  }
 },
 "nbformat": 4,
 "nbformat_minor": 5
}
